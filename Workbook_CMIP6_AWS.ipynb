{
 "cells": [
  {
   "cell_type": "markdown",
   "id": "ec3c1000-bf4d-47b4-a85d-4ddfa3648f38",
   "metadata": {},
   "source": [
    "# Workbook for Accessing CMIP6 Data via Amazon Web Services\n",
    "### Authors\n",
    "\n",
    "Samantha Stevenson sstevenson@ucsb.edu\n",
    "\n",
    "### Table of Contents\n",
    "\n",
    "[Goals](#purpose)\n",
    "\n",
    "[Import Packages](#import)\n",
    "\n",
    "[Load and Query the CMIP6 AWS Catalog](#data_io)\n",
    "\n",
    "[Plot a Time Series](#time_series)"
   ]
  },
  {
   "cell_type": "markdown",
   "id": "f1e946b0-7253-4565-a2d5-929d9c59e7a3",
   "metadata": {},
   "source": [
    "<a id='purpose'></a> \n",
    "# Goals\n",
    "\n",
    "This is the companion \"workbook\" for the tutorials in the \"CMIP6 AWS\" Climate DataLab repository. It does not contain any code! You can use this as a space to create your own workflow, based on the steps in the tutorials. We have provided an overall structure for the workflow, but you are encouraged to customize your code using snippets from the tutorials in this or other repositories as you like.\n",
    "\n",
    "Happy coding!"
   ]
  },
  {
   "cell_type": "markdown",
   "id": "0783b6cd-9cd2-48fb-815b-b20e27177c8b",
   "metadata": {},
   "source": [
    "<a id='import'></a> \n",
    "# Import Packages\n",
    "\n",
    "Import all packages necessary for this tutorial: the main ones you'll need are matplotlib, xarray, intake, and s3fs. \n",
    "\n",
    "_Note: make sure you've installed the intake-esm plugin for the intake package, or that you're working on a server where this was done for you!_"
   ]
  },
  {
   "cell_type": "code",
   "execution_count": 1,
   "id": "53d79e13-723e-484f-af04-5e7006502bfc",
   "metadata": {
    "tags": []
   },
   "outputs": [],
   "source": [
    "# Import necessary packages\n",
    "import xarray as xr\n",
    "import matplotlib.pyplot as plt\n",
    "import intake\n",
    "import s3fs"
   ]
  },
  {
   "cell_type": "markdown",
   "id": "583b04c4-ca1c-46de-8eac-28413b423b38",
   "metadata": {},
   "source": [
    "<a id='data_io'></a> \n",
    "# Load and Query the CMIP6 AWS Catalog\n",
    "\n",
    "Now use the steps laid out in the [Accessing CMIP6 Data via AWS](https://github.com/climate-datalab/CMIP6_AWS/blob/main/CMIP6_timeseries_map.ipynb) tutorial to load your data using intake!"
   ]
  },
  {
   "cell_type": "code",
   "execution_count": 2,
   "id": "cabc9cbc-c527-4329-8909-f0df26cc864e",
   "metadata": {
    "tags": []
   },
   "outputs": [],
   "source": [
    "# Open the CMIP6 data catalog, store as a variable\n",
    "catalog = intake.open_esm_datastore('https://cmip6-pds.s3.amazonaws.com/pangeo-cmip6.json')"
   ]
  },
  {
   "cell_type": "markdown",
   "id": "61e749c4-bd8b-4295-8e77-ba64572db6ed",
   "metadata": {},
   "source": [
    "Once the data is loaded, you can query it using various search terms, listed below:\n",
    "\n",
    "- _activity_id_: which project do you want? CMIP = historical data, ScenarioMIP = future projections\n",
    "\n",
    "- _source_id_: which model do you want? \n",
    "\n",
    "- _experiment_id_: what experimental configuration do you want? Here we want historical and the four main SSPs\n",
    "\n",
    "- _member_id_: which ensemble member do you want? Here we want r10i1p1f1\n",
    "\n",
    "- _table_id_: which part of the Earth system and time resolution do you want? Here we want monthly atmosphere data\n",
    "\n",
    "- _variable_id_: which climate variable do you want? Here we want surface air temperature\n",
    "\n",
    "\n",
    "### How do I figure out what I'm looking at??\n",
    "\n",
    "Try the following to get a sense for what's available in the catalog:\n",
    "\n",
    "1) **List all unique models participating in the \"CMIP\" activity** (\"activity_id=CMIP\")\n",
    "  \n",
    "  (_see the section \"Example: finding all the unique model names contributing to a given activity\" in Tutorial 1_)"
   ]
  },
  {
   "cell_type": "code",
   "execution_count": 3,
   "id": "87843aa7-43b3-47d6-8427-4e28fc66c858",
   "metadata": {
    "tags": []
   },
   "outputs": [
    {
     "name": "stdout",
     "output_type": "stream",
     "text": [
      "List of model names:\n",
      "\n",
      "['GFDL-CM4' 'GFDL-ESM4' 'IPSL-CM6A-LR' 'GISS-E2-1-G' 'CNRM-CM6-1'\n",
      " 'BCC-CSM2-MR' 'BCC-ESM1' 'CNRM-ESM2-1' 'MIROC6' 'AWI-CM-1-1-MR'\n",
      " 'MRI-ESM2-0' 'CESM2-WACCM' 'CanESM5' 'CESM2' 'SAM0-UNICON' 'GISS-E2-1-H'\n",
      " 'UKESM1-0-LL' 'EC-Earth3' 'CanESM5-CanOE' 'INM-CM4-8' 'EC-Earth3-Veg'\n",
      " 'INM-CM5-0' 'HadGEM3-GC31-LL' 'MPI-ESM-1-2-HAM' 'NESM3' 'CAMS-CSM1-0'\n",
      " 'MPI-ESM1-2-LR' 'MPI-ESM1-2-HR' 'E3SM-1-0' 'MCM-UA-1-0' 'NorESM2-LM'\n",
      " 'GISS-E2-1-G-CC' 'FGOALS-g3' 'FGOALS-f3-L' 'MIROC-ES2L' 'KACE-1-0-G'\n",
      " 'NorCPM1' 'CNRM-CM6-1-HR' 'KIOST-ESM' 'NorESM2-MM' 'ACCESS-CM2'\n",
      " 'FIO-ESM-2-0' 'ACCESS-ESM1-5' 'CESM2-FV2' 'CESM2-WACCM-FV2' 'GISS-E2-2-H'\n",
      " 'E3SM-1-1' 'HadGEM3-GC31-MM' 'IITM-ESM' 'CIESM' 'E3SM-1-1-ECA'\n",
      " 'AWI-ESM-1-1-LR' 'EC-Earth3-Veg-LR' 'TaiESM1' 'CAS-ESM2-0' 'CMCC-CM2-SR5'\n",
      " 'EC-Earth3-AerChem' 'IPSL-CM5A2-INCA' 'CMCC-CM2-HR4' 'EC-Earth3P-VHR'\n",
      " 'EC-Earth3-CC' 'CMCC-ESM2' 'MIROC-ES2H' 'ICON-ESM-LR' 'IPSL-CM6A-LR-INCA']\n"
     ]
    }
   ],
   "source": [
    "# Search through catalog, find all historical simulations\n",
    "cmip = catalog.search(activity_id = \"CMIP\", experiment_id = \"historical\")\n",
    "\n",
    "# Convert to a data frame\n",
    "cmip_df = cmip.df\n",
    "\n",
    "# Get unique model names in the set of search results\n",
    "cmip_model_names = cmip_df.source_id.unique()\n",
    "\n",
    "# Print list of model names\n",
    "print(f\"List of model names:\\n\\n{cmip_model_names}\")"
   ]
  },
  {
   "cell_type": "markdown",
   "id": "36e2a641-c08d-440f-8802-50b9a2f194ee",
   "metadata": {},
   "source": [
    "2) **List all unique ensemble members** associated with the \"historical\" simulations (\"experiment_id=historical\") run with CanESM5 (\"source_id=CanESM5\")\n",
    "\n",
    "   _(see the section \"Example: finding all the historical simulations with a given model¶\") in Tutorial 1)_"
   ]
  },
  {
   "cell_type": "code",
   "execution_count": 4,
   "id": "82bbafc9-d8b3-4170-93c4-545e04ac377c",
   "metadata": {
    "tags": []
   },
   "outputs": [
    {
     "name": "stdout",
     "output_type": "stream",
     "text": [
      "List of historical ensemble names:\n",
      "\n",
      "['r24i1p1f1' 'r25i1p1f1' 'r14i1p1f1' 'r2i1p1f1' 'r17i1p1f1' 'r10i1p1f1'\n",
      " 'r13i1p1f1' 'r7i1p1f1' 'r6i1p1f1' 'r5i1p1f1' 'r3i1p1f1' 'r22i1p1f1'\n",
      " 'r23i1p1f1' 'r8i1p1f1' 'r11i1p1f1' 'r12i1p1f1' 'r15i1p1f1' 'r19i1p1f1'\n",
      " 'r16i1p1f1' 'r1i1p1f1' 'r9i1p1f1' 'r18i1p1f1' 'r4i1p1f1' 'r21i1p1f1'\n",
      " 'r20i1p1f1' 'r11i1p2f1' 'r10i1p2f1' 'r7i1p2f1' 'r9i1p2f1' 'r8i1p2f1'\n",
      " 'r4i1p2f1' 'r40i1p2f1' 'r3i1p2f1' 'r6i1p2f1' 'r24i1p2f1' 'r13i1p2f1'\n",
      " 'r12i1p2f1' 'r5i1p2f1' 'r31i1p2f1' 'r30i1p2f1' 'r32i1p2f1' 'r29i1p2f1'\n",
      " 'r28i1p2f1' 'r2i1p2f1' 'r22i1p2f1' 'r23i1p2f1' 'r26i1p2f1' 'r27i1p2f1'\n",
      " 'r25i1p2f1' 'r37i1p2f1' 'r38i1p2f1' 'r39i1p2f1' 'r35i1p2f1' 'r34i1p2f1'\n",
      " 'r36i1p2f1' 'r33i1p2f1' 'r1i1p2f1' 'r18i1p2f1' 'r19i1p2f1' 'r14i1p2f1'\n",
      " 'r15i1p2f1' 'r17i1p2f1' 'r16i1p2f1' 'r21i1p2f1' 'r20i1p2f1']\n"
     ]
    }
   ],
   "source": [
    "# Search through catalog, find all historical simulations with CanESM5\n",
    "historical = catalog.search(activity_id=\"CMIP\", experiment_id=\"historical\", source_id=\"CanESM5\")\n",
    "\n",
    "# Convert to a data frame\n",
    "historical_df = historical.df\n",
    "\n",
    "# Print all unique ensemble members (\"member_id\")\n",
    "print(f\"List of historical ensemble names:\\n\\n{historical_df.member_id.unique()}\")"
   ]
  },
  {
   "cell_type": "markdown",
   "id": "db78442d-a6f2-4f61-80e5-710ce5b2b512",
   "metadata": {},
   "source": [
    "### **Find a specific file**\n",
    "\n",
    "Let's do an example of pulling the data we used in previous tutorials, this time from the cloud. The example data file from the [Time Series Plots](https://github.com/climate-datalab/Time-Series-Plots) and [Map Plots](https://github.com/climate-datalab/Map-Plots) repositories is:\n",
    "\n",
    "`tas_Amon_CanESM5_historical_r10i1p1f1_gn_185001-201412.nc`\n",
    "\n",
    "We can break this down to extract the fields we'll need to search the data catalog properly. If you need more detail on how to do this, also refer to the [filename decoder](http://climate-datalab.org/filename-decoder/) on the Climate DataLab website!\n",
    "\n",
    "#### **Characteristics of this file (corresponding fields in the CMIP6 catalog are in parentheses)**:\n",
    "- _Variable (\"variable_id\")_: This is a surface air temperature, or \"tas\", variable.\n",
    "- _Realm (\"table_id\")_: Surface air temperature is generated by the atmosphere component of a climate model (\"A\"), and the information in this particular file is averaged monthly (\"mon\").\n",
    "- _Model (\"source_id\")_: The name of the model is \"CanESM5\", which is short for the Canadian Earth System Model version 5.\n",
    "- _Experiment (\"experiment_id\")_: The name of the model experiment being run. The file above is a _historical_ simulation: since we're also interested in the future projection information, we'll further specify that we'd also like the associated SSPs below.\n",
    "- _Ensemble member (\"member_id\")_: The name of this ensemble member is \"r10i1p1f1\"."
   ]
  },
  {
   "cell_type": "code",
   "execution_count": 5,
   "id": "2f6fd2c7-0af4-4a8f-bf57-ca141e3fb094",
   "metadata": {
    "tags": []
   },
   "outputs": [],
   "source": [
    "# Specify search terms to query catalog for CanESM5 data\n",
    "# activity_id: which project do you want? CMIP = historical data, ScenarioMIP = future projections\n",
    "activity_ids = ['ScenarioMIP', 'CMIP'] \n",
    "\n",
    "# source_id: which model do you want? \n",
    "model = [\"CanESM5\"]\n",
    "\n",
    "# experiment_id: what experimental configuration do you want? Here we want historical and the four main SSPs\n",
    "experiment_ids = ['historical', 'ssp126', 'ssp245', 'ssp370', 'ssp585']\n",
    "\n",
    "# member_id: which ensemble member do you want? Here we want r10i1p1f1\n",
    "member_id = 'r10i1p1f1'\n",
    "\n",
    "# table_id: which part of the Earth system and time resolution do you want? Here we want monthly atmosphere data\n",
    "realm = \"Amon\"\n",
    "\n",
    "# variable_id: which climate variable do you want? Here we want surface air temperature\n",
    "variable_id = \"tas\""
   ]
  },
  {
   "cell_type": "code",
   "execution_count": 6,
   "id": "7814caae-a98f-4603-a9b6-289dd2be5124",
   "metadata": {
    "tags": []
   },
   "outputs": [],
   "source": [
    "# Search through catalog, store results in \"res\" variable\n",
    "search_result = catalog.search(activity_id = activity_ids, source_id = model, experiment_id = experiment_ids, member_id = member_id, table_id = realm, variable_id = variable_id)\n",
    "\n",
    "# Display data frame associated with results\n",
    "search_result_df = search_result.df\n",
    "\n",
    "# Extract data for the historical period, store as a separate xarray Dataset\n",
    "search_result_xr_hist = xr.open_zarr(search_result_df[search_result_df[\"experiment_id\"] == \"historical\"][\"zstore\"][0], storage_options = {'anon':True})\n",
    "\n",
    "# Extract data for an SSP \n",
    "search_result_df_fut = xr.open_zarr(search_result_df[\"zstore\"][4], storage_options = {'anon':True})"
   ]
  },
  {
   "cell_type": "markdown",
   "id": "81daa20e-8cbf-4cb9-a203-a9622d7565d1",
   "metadata": {},
   "source": [
    "<a id='time_series'></a> \n",
    "## **Plot a Time Series**\n",
    "\n",
    "Once the data have been loaded in, you can use it to generate a time series, following the exact same steps used in previous tutorials!"
   ]
  },
  {
   "cell_type": "code",
   "execution_count": 7,
   "id": "6b70fd5c-5628-4c25-bbbc-6bcaec36a8e9",
   "metadata": {},
   "outputs": [],
   "source": [
    "# Concatenate historical and future projection data\n",
    "\n",
    "# Convert time to datetime64 format\n"
   ]
  },
  {
   "cell_type": "code",
   "execution_count": 8,
   "id": "60dd7e36-4361-4faa-90fc-c0b5f98a019a",
   "metadata": {},
   "outputs": [],
   "source": [
    "# Define min/max bounds for region of interest \n",
    "\n",
    "\n",
    "# Define logical mask: True when lat/lon inside the valid ranges, False elsewhere\n",
    "\n",
    "# Find points where the mask value is True, drop all other points\n",
    "\n",
    "# Average over lat, lon dimensions to get a time series\n"
   ]
  },
  {
   "cell_type": "code",
   "execution_count": 9,
   "id": "79c3f378-1356-49c8-8745-9d89a7db3da4",
   "metadata": {},
   "outputs": [],
   "source": [
    "# Plot the resulting time series"
   ]
  }
 ],
 "metadata": {
  "kernelspec": {
   "display_name": "Anaconda 3 (EDS296)",
   "language": "python",
   "name": "eds196-stevenson"
  },
  "language_info": {
   "codemirror_mode": {
    "name": "ipython",
    "version": 3
   },
   "file_extension": ".py",
   "mimetype": "text/x-python",
   "name": "python",
   "nbconvert_exporter": "python",
   "pygments_lexer": "ipython3",
   "version": "3.8.18"
  }
 },
 "nbformat": 4,
 "nbformat_minor": 5
}
